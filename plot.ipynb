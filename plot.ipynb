{
 "cells": [
  {
   "cell_type": "code",
   "execution_count": 1,
   "metadata": {},
   "outputs": [],
   "source": [
    "import numpy as np\n",
    "import matplotlib\n",
    "from matplotlib import pyplot as plt"
   ]
  },
  {
   "cell_type": "code",
   "execution_count": 2,
   "metadata": {},
   "outputs": [],
   "source": [
    "black = \"#000000\"\n",
    "blue = \"#16469D\"\n",
    "red = \"#BD202D\"\n",
    "green = \"#00A14B\"\n",
    "lightblue = \"#4B96D1\"\n",
    "orange = \"#F16521\"\n",
    "lavender = \"#9F6EAF\"\n",
    "\n",
    "evangelista = [black, blue, red, green, lightblue, orange, lavender] "
   ]
  },
  {
   "cell_type": "code",
   "execution_count": 5,
   "metadata": {},
   "outputs": [],
   "source": [
    "npz = np.load(\"learn_2020-12-10_21h22m02s.npz\")\n",
    "end = len(npz[\"it\"])//2\n",
    "charges = npz[\"charges\"][:end]"
   ]
  },
  {
   "cell_type": "code",
   "execution_count": 8,
   "metadata": {},
   "outputs": [],
   "source": [
    "from waterbox import WaterBox\n",
    "waterbox = WaterBox()"
   ]
  },
  {
   "cell_type": "code",
   "execution_count": 9,
   "metadata": {},
   "outputs": [],
   "source": [
    "defaults = {\n",
    "    \"bond_length\": waterbox.ff.get_bond(\"OT\", \"HT\")[1],\n",
    "    \"bond_k\": waterbox.ff.get_bond(\"OT\", \"HT\")[0],\n",
    "    \"angle\": waterbox.ff.get_angle(\"HT\", \"OT\", \"HT\")[1],\n",
    "    \"angle_k\": waterbox.ff.get_angle(\"HT\", \"OT\", \"HT\")[0],\n",
    "    \"charges\": np.array([\n",
    "        waterbox.ff.get_charge(at) \n",
    "        for at in [\"OT\", \"HT\", \"CLA\", \"SOD\"]\n",
    "    ]),\n",
    "    \"sigma\": np.array([\n",
    "        waterbox.ff.get_LJ(at)[0] \n",
    "        for at in [\"CLA\", \"HT\", \"OT\", \"SOD\"]\n",
    "    ]),\n",
    "    \"epsilon\": np.array([\n",
    "        waterbox.ff.get_LJ(at)[1] \n",
    "        for at in [\"CLA\", \"HT\", \"OT\", \"SOD\"]\n",
    "    ]),\n",
    "}"
   ]
  },
  {
   "cell_type": "code",
   "execution_count": 10,
   "metadata": {},
   "outputs": [],
   "source": [
    "\n",
    "plt.rcParams.update({\n",
    "    \"text.usetex\": False,\n",
    "    \"font.family\": \"serif\",\n",
    "    \"font.serif\": [\"Helvetica\"],\n",
    "})"
   ]
  },
  {
   "cell_type": "code",
   "execution_count": 66,
   "metadata": {},
   "outputs": [
    {
     "data": {
      "image/png": "[encoded data removed]",
      "text/plain": [
       "<Figure size 216x144 with 1 Axes>"
      ]
     },
     "metadata": {
      "needs_background": "light"
     },
     "output_type": "display_data"
    }
   ],
   "source": [
    "fig, ax = plt.subplots(figsize=(3,2))\n",
    "\n",
    "ax.plot(npz[\"loss\"][:end], color=\"black\")\n",
    "ax.set_ylabel(\"Training Loss\")\n",
    "ax.set_xlabel(\"Iteration\")\n",
    "ax.set_xlim(0, end+6)\n",
    "#ax2.set_ylim(0, 0.003) #1e-6, 1e-2)\n",
    "ax.set_ylim(3e-6, 1e-2) #0.003) #1e-6, 1e-2)\n",
    "#ax2.tick_params(axis='y', which='minor')\n",
    "#locmin = matplotlib.ticker.LogLocator(base=10.0,subs=(0.2,0.4,0.6,0.8),numticks=12)\n",
    "#ax2.yaxis.set_minor_locator(locmin)\n",
    "#ax2.yaxis.set_minor_formatter(matplotlib.ticker.NullFormatter())\n",
    "y_major = matplotlib.ticker.LogLocator(base = 10.0, numticks = 5)\n",
    "ax.yaxis.set_major_locator(y_major)\n",
    "y_minor = matplotlib.ticker.LogLocator(base = 10.0, subs = np.arange(1.0, 10.0) * 0.1, numticks = 10)\n",
    "ax.yaxis.set_minor_locator(y_minor)\n",
    "ax.yaxis.set_minor_formatter(matplotlib.ticker.NullFormatter())\n",
    "ax.semilogy()\n",
    "ax.grid()\n",
    "\n",
    "\n",
    "fig.savefig(\"loss_water.png\", dpi=360, extra_bbox_agents=(t1, t2, t3, t4), bbox_inches=\"tight\")\n"
   ]
  },
  {
   "cell_type": "code",
   "execution_count": 67,
   "metadata": {},
   "outputs": [
    {
     "data": {
      "image/png": "[encoded data removed]",
      "text/plain": [
       "<Figure size 216x144 with 1 Axes>"
      ]
     },
     "metadata": {
      "needs_background": "light"
     },
     "output_type": "display_data"
    }
   ],
   "source": [
    "fig, ax = plt.subplots(figsize=(3,2))\n",
    "\n",
    "ax.plot(-charges[:,1], color=blue, label=r\"Na$^{+}$\")\n",
    "ax.axhline(-defaults[\"charges\"][2], ls=\"--\", color=blue)\n",
    "\n",
    "ax.plot(-0.5*charges[:,0], color=black, label=\"H\")\n",
    "ax.axhline(-0.5*defaults[\"charges\"][0], ls=\"--\", color=black)\n",
    "\n",
    "ax.plot(charges[:,0], color=red, ls=\"-\", label=\"O\")\n",
    "ax.axhline(defaults[\"charges\"][0], ls=\"--\", color=red)\n",
    "\n",
    "ax.plot(charges[:,1], color=green, ls=\"-\", label=r\"Cl$^{-}$\")\n",
    "ax.axhline(defaults[\"charges\"][2], ls=\"--\", color=green)\n",
    "\n",
    "t1 = ax.annotate(\"Na$^{+}$\", xy=(1800, -0.5*defaults[\"charges\"][0]), color=blue, fontsize=13, xytext=(2100, 1.0))\n",
    "t2 = ax.annotate(\"H\", xy=(1800, -0.5*defaults[\"charges\"][0]), color=black, fontsize=13, xytext=(2100, 0.4))\n",
    "t3 = ax.annotate(\"O\", xy=(1800, defaults[\"charges\"][0]), color=red, fontsize=13, xytext=(2100, -0.9))\n",
    "t4 = ax.annotate(\"Cl$^{-}$\", xy=(2000, defaults[\"charges\"][2]), color=green, fontsize=13, xytext=(2100, -1.2))\n",
    "\n",
    "\n",
    "ax.set_ylim(-1.3, 1.3)\n",
    "ax.set_xlim(0, end+6)\n",
    "ax.grid()\n",
    "\n",
    "ax.set_ylabel(\"Partial charge  $q$ [$e$]\")\n",
    "ax.set_xlabel(\"Iteration\")\n",
    "fig.savefig(\"charges.png\", dpi=360, extra_bbox_agents=(t1, t2, t3, t4), bbox_inches=\"tight\")\n",
    "\n"
   ]
  },
  {
   "cell_type": "code",
   "execution_count": null,
   "metadata": {},
   "outputs": [],
   "source": []
  }
 ],
 "metadata": {
  "kernelspec": {
   "display_name": "Python [conda env:ml] *",
   "language": "python",
   "name": "conda-env-ml-py"
  },
  "language_info": {
   "codemirror_mode": {
    "name": "ipython",
    "version": 3
   },
   "file_extension": ".py",
   "mimetype": "text/x-python",
   "name": "python",
   "nbconvert_exporter": "python",
   "pygments_lexer": "ipython3",
   "version": "3.7.3"
  }
 },
 "nbformat": 4,
 "nbformat_minor": 2
}
