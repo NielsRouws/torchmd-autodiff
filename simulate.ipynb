{
 "cells": [
  {
   "cell_type": "markdown",
   "metadata": {},
   "source": [
    "# TorchMD Simulation\n",
    "\n",
    "This notebook runs a short torchmd simulation of a water box."
   ]
  },
  {
   "cell_type": "code",
   "execution_count": 1,
   "metadata": {},
   "outputs": [],
   "source": [
    "#SBATCH -p gpu --exclusive --time 24:00:00\n",
    "import sys\n",
    "sys.path.append(\".\")\n",
    "DEVICE = \"cpu\"\n",
    "#DEVICE = \"cuda:0\""
   ]
  },
  {
   "cell_type": "code",
   "execution_count": 2,
   "metadata": {},
   "outputs": [],
   "source": [
    "import torch\n",
    "import numpy as np"
   ]
  },
  {
   "cell_type": "markdown",
   "metadata": {},
   "source": [
    "Set seeds to ensure reproducibility."
   ]
  },
  {
   "cell_type": "code",
   "execution_count": 3,
   "metadata": {},
   "outputs": [],
   "source": [
    "torch.manual_seed(1)\n",
    "np.random.seed(1)"
   ]
  },
  {
   "cell_type": "markdown",
   "metadata": {},
   "source": [
    "## Build Test System"
   ]
  },
  {
   "cell_type": "markdown",
   "metadata": {},
   "source": [
    "The files defining the water box are part of the `torchmd` test suite. The setup is defined in the module `waterbox.py`.\n",
    "The box contains 96 water molecules as well as one ion pair (sodium and chlorine)."
   ]
  },
  {
   "cell_type": "code",
   "execution_count": 4,
   "metadata": {},
   "outputs": [],
   "source": [
    "from waterbox import WaterBox\n",
    "waterbox = WaterBox(nreplicas=1, device=DEVICE)"
   ]
  },
  {
   "cell_type": "markdown",
   "metadata": {},
   "source": [
    "## Energy Minimization"
   ]
  },
  {
   "cell_type": "code",
   "execution_count": null,
   "metadata": {},
   "outputs": [
    {
     "name": "stdout",
     "output_type": "stream",
     "text": [
      "Iter  Epot            fmax    \n",
      "   0   -691.583104    57.640355\n",
      "   1   -249.736811    212.411990\n",
      "   2   -731.377728    19.837357\n",
      "   3   -740.159184    20.139690\n",
      "   4   -786.285572    43.255250\n",
      "   5   -792.541717    66.349296\n",
      "   6   -815.886302    22.912048\n",
      "   7   -830.756328    21.255851\n",
      "   8   -842.972508    26.154271\n",
      "   9   -852.190711    18.151096\n",
      "  10   -857.584258    92.193282\n",
      "  11   -871.894552    28.030490\n",
      "  12   -882.560370    23.991500\n",
      "  13   -893.327520    46.935104\n",
      "  14   -897.904242    31.250359\n",
      "  15   -903.884071    12.794050\n",
      "  16   -910.240079    20.790360\n",
      "  17   -917.728849    23.770905\n",
      "  18   -927.771507    25.981902\n",
      "  19   -933.377868    28.852858\n",
      "  20   -941.155280    16.347461\n",
      "  21   -945.924788    15.937664\n",
      "  22   -951.955510    17.664942\n",
      "  23   -957.618717    48.166648\n",
      "  24   -968.034143    20.388571\n",
      "  25   -975.991177    19.592387\n",
      "  26   -982.013636    14.397089\n",
      "  27   -984.929808    30.084177\n",
      "  28   -990.443738    14.777269\n",
      "  29   -996.866784    15.398846\n",
      "  30   -999.472603    20.463265\n",
      "  31   -1004.326830    11.853719\n",
      "  32   -1008.299509    10.745262\n",
      "  33   -1013.841459    12.847580\n",
      "  34   -1018.629051    28.190312\n",
      "  35   -1024.990525    12.113320\n",
      "  36   -1027.811294    9.334639\n",
      "  37   -1030.978247    18.401385\n",
      "  38   -1033.930766    17.716398\n",
      "  39   -1037.960703    12.759496\n",
      "  40   -1042.873003    24.134179\n",
      "  41   -1045.861976    16.050871\n",
      "  42   -1050.072999    15.037956\n",
      "  43   -1054.638418    11.535218\n",
      "  44   -1057.731421    15.672430\n",
      "  45   -1061.373361    15.869548\n",
      "  46   -1063.412051    21.100145\n",
      "  47   -1066.324779    10.753735\n",
      "  48   -1068.931952    10.038994\n",
      "  49   -1071.678023    10.359896\n",
      "  50   -1075.617813    22.569250\n",
      "  51   -1078.470522    15.065148\n",
      "  52   -1081.044964    7.806700\n",
      "  53   -1083.090606    5.353447\n",
      "  54   -1085.274003    15.484633\n",
      "  55   -1088.249267    13.587824\n",
      "  56   -1090.674396    18.765317\n",
      "  57   -1092.851893    7.414221\n",
      "  58   -1094.500247    9.560218\n",
      "  59   -1096.694256    17.079759\n",
      "  60   -1100.063862    14.349511\n",
      "  61   -1102.760953    28.583798\n",
      "  62   -1105.031673    8.886583\n",
      "  63   -1107.173283    12.331241\n",
      "  64   -1109.098774    9.509190\n",
      "  65   -1111.205185    9.291678\n",
      "  66   -1113.514984    15.828812\n",
      "  67   -1115.337954    8.545347\n",
      "  68   -1116.972254    8.261056\n",
      "  69   -1119.120842    11.289834\n",
      "  70   -1120.826081    11.941003\n",
      "  71   -1122.312912    5.727715\n",
      "  72   -1124.210149    12.497451\n",
      "  73   -1125.175201    14.042060\n",
      "  74   -1126.685475    7.168511\n",
      "  75   -1129.045577    8.235110\n",
      "  76   -1129.874534    11.186781\n",
      "  77   -1130.866452    7.182867\n",
      "  78   -1132.852898    7.050765\n",
      "  79   -1133.790468    9.991735\n",
      "  80   -1135.205270    5.968666\n",
      "  81   -1136.114502    13.085127\n",
      "  82   -1137.229489    4.641788\n",
      "  83   -1137.917671    4.414283\n",
      "  84   -1139.079524    7.561053\n",
      "  85   -1140.152549    12.420011\n",
      "  86   -1141.325669    5.746764\n",
      "  87   -1142.155226    4.059989\n",
      "  88   -1142.862397    6.247496\n",
      "  89   -1144.079699    12.820114\n",
      "  90   -1145.413108    5.644117\n",
      "  91   -1146.295231    5.356877\n",
      "  92   -1147.216587    6.853216\n",
      "  93   -1148.103228    7.889024\n",
      "  94   -1149.205014    6.690934\n",
      "  95   -1149.865626    20.632829\n",
      "  96   -1151.147163    5.279312\n",
      "  97   -1151.595872    5.550227\n",
      "  98   -1152.407640    4.738387\n",
      "  99   -1153.442760    7.184835\n",
      " 100   -1154.481214    7.424710\n",
      " 101   -1155.365539    6.246225\n",
      " 102   -1156.404806    8.252908\n",
      " 103   -1157.188479    9.089529\n",
      " 104   -1157.854926    7.337349\n",
      " 105   -1159.422846    8.058741\n",
      " 106   -1159.945918    15.602335\n",
      " 107   -1160.819608    5.879008\n",
      " 108   -1161.546452    3.428588\n",
      " 109   -1162.012747    6.292605\n",
      " 110   -1162.707591    8.634113\n",
      " 111   -1163.586154    4.562867\n",
      " 112   -1164.862488    6.229216\n",
      " 113   -1165.572745    8.129392\n",
      " 114   -1166.356632    5.557384\n",
      " 115   -1167.481356    5.872939\n",
      " 116   -1168.078464    6.134112\n",
      " 117   -1168.652483    5.346205\n",
      " 118   -1169.717194    10.341137\n",
      " 119   -1170.420730    8.805034\n",
      " 120   -1170.869730    4.616563\n",
      " 121   -1171.530047    4.544233\n",
      " 122   -1172.515657    8.257826\n",
      " 123   -1173.659937    8.714953\n",
      " 124   -1172.247753    26.097189\n",
      " 125   -1174.374333    12.266526\n",
      " 126   -1175.717671    6.238370\n",
      " 127   -1176.837613    5.825870\n",
      " 128   -1177.717835    6.003538\n",
      " 129   -1178.679694    6.265395\n",
      " 130   -1179.624825    12.657494\n",
      " 131   -1180.540185    6.477978\n",
      " 132   -1181.161191    6.198913\n",
      " 133   -1182.066258    5.989121\n",
      " 134   -1183.312903    9.974118\n",
      " 135   -1184.164614    13.118504\n",
      " 136   -1185.165145    4.737199\n",
      " 137   -1185.798640    4.208890\n",
      " 138   -1186.472561    6.365421\n",
      " 139   -1187.312229    10.522900\n",
      " 140   -1188.204656    6.161405\n",
      " 141   -1188.893543    5.312303\n",
      " 142   -1189.484228    4.367273\n",
      " 143   -1190.201034    8.193631\n",
      " 144   -1191.029117    11.331788\n",
      " 145   -1191.800177    8.093974\n",
      " 146   -1192.490259    4.247161\n",
      " 147   -1192.943943    6.228640\n",
      " 148   -1193.675300    9.424119\n",
      " 149   -1194.394884    5.969944\n",
      " 150   -1195.053487    5.123387\n",
      " 151   -1195.825547    8.753632\n",
      " 152   -1196.557549    4.908264\n",
      " 153   -1197.256035    5.284438\n",
      " 154   -1198.034634    6.506473\n",
      " 155   -1198.750662    13.027815\n",
      " 156   -1199.568085    5.114486\n",
      " 157   -1200.077722    5.382721\n",
      " 158   -1200.504310    5.103592\n",
      " 159   -1201.040222    5.486721\n",
      " 160   -1201.642930    13.133291\n",
      " 161   -1202.126845    5.414038\n",
      " 162   -1202.378658    3.473449\n",
      " 163   -1202.807715    5.719427\n",
      " 164   -1203.244246    5.953449\n",
      " 165   -1203.690598    4.079290\n",
      " 166   -1204.131318    6.575953\n",
      " 167   -1204.550285    4.200256\n",
      " 168   -1204.856150    3.512615\n",
      " 169   -1205.346986    5.163109\n",
      " 170   -1205.797706    4.901353\n",
      " 171   -1206.233606    3.379318\n",
      " 172   -1206.830466    3.623436\n",
      " 173   -1207.159772    7.055788\n",
      " 174   -1207.592091    3.713445\n",
      " 175   -1208.225978    4.785413\n",
      " 176   -1208.526204    7.063715\n",
      " 177   -1208.827058    3.616112\n",
      " 178   -1209.415202    3.048779\n",
      " 179   -1209.714072    4.044247\n",
      " 180   -1210.185959    4.725811\n",
      " 181   -1210.557557    5.323340\n",
      " 182   -1210.881486    3.718397\n",
      " 183   -1211.207369    3.913476\n",
      " 184   -1211.568582    3.817351\n",
      " 185   -1211.955463    3.773496\n",
      " 186   -1212.277067    3.714587\n",
      " 187   -1212.685286    3.740686\n",
      " 188   -1213.006007    5.673495\n",
      " 189   -1213.381828    4.440209\n",
      " 190   -1213.705610    6.931007\n",
      " 191   -1214.201599    2.762649\n",
      " 192   -1214.405041    3.327969\n",
      " 193   -1214.881979    4.144637\n",
      " 194   -1214.897089    7.601472\n",
      " 195   -1215.121240    4.134243\n",
      " 196   -1215.351056    2.858611\n",
      " 197   -1215.663574    2.500036\n",
      " 198   -1215.853135    4.316285\n",
      " 199   -1216.085937    2.423570\n"
     ]
    }
   ],
   "source": [
    "from torchmd.minimizers import minimize_bfgs\n",
    "minimize_bfgs(waterbox.system, waterbox.forces, steps=500)  # Minimize the system"
   ]
  },
  {
   "cell_type": "markdown",
   "metadata": {},
   "source": [
    "## Prepare Simulation"
   ]
  },
  {
   "cell_type": "code",
   "execution_count": null,
   "metadata": {},
   "outputs": [],
   "source": [
    "from torchmd.integrator import Integrator\n",
    "from torchmd.wrapper import Wrapper\n",
    "\n",
    "langevin_temperature = 300.0  # K\n",
    "langevin_gamma = 10\n",
    "timestep = 1  # fs\n",
    "\n",
    "integrator = Integrator(\n",
    "    waterbox.system, \n",
    "    waterbox.forces, \n",
    "    timestep, \n",
    "    waterbox.device, \n",
    "    gamma=langevin_gamma, \n",
    "    T=langevin_temperature\n",
    ")\n",
    "wrapper = Wrapper(\n",
    "    waterbox.mol.numAtoms, \n",
    "    waterbox.mol.bonds if len(waterbox.mol.bonds) else None, \n",
    "    waterbox.device\n",
    ")"
   ]
  },
  {
   "cell_type": "code",
   "execution_count": null,
   "metadata": {},
   "outputs": [],
   "source": [
    "from torchmd.utils import LogWriter\n",
    "\n",
    "logger = LogWriter(\n",
    "    path=\"logs/\",\n",
    "    keys=('iter','ns','epot','ekin','etot','T'),\n",
    "    name='monitor.csv'\n",
    ")"
   ]
  },
  {
   "cell_type": "markdown",
   "metadata": {},
   "source": [
    "## Equilibration"
   ]
  },
  {
   "cell_type": "code",
   "execution_count": null,
   "metadata": {},
   "outputs": [],
   "source": [
    "*_, T = integrator.step(niter=100)\n",
    "*_, T = integrator.step(niter=100)\n",
    "print(T)"
   ]
  },
  {
   "cell_type": "markdown",
   "metadata": {},
   "source": [
    "## Run NVE Simulation"
   ]
  },
  {
   "cell_type": "code",
   "execution_count": null,
   "metadata": {},
   "outputs": [],
   "source": [
    "integrator = Integrator(\n",
    "    waterbox.system, \n",
    "    waterbox.forces, \n",
    "    timestep, \n",
    "    waterbox.device, \n",
    "    gamma=0.0, \n",
    "    T=None\n",
    ")"
   ]
  },
  {
   "cell_type": "code",
   "execution_count": null,
   "metadata": {},
   "outputs": [],
   "source": [
    "from tqdm import tqdm \n",
    "import numpy as np\n",
    "\n",
    "FS2NS = 1E-6 # Femtosecond to nanosecond conversion\n",
    "\n",
    "steps = 10000\n",
    "output_period = 10\n",
    "save_period = 100\n",
    "traj = []\n",
    "\n",
    "system = waterbox.system\n",
    "forces = waterbox.forces\n",
    "\n",
    "trajectoryout = \"xyz_vel.npy\"\n",
    "iterator = tqdm(range(1, int(steps / output_period) + 1))\n",
    "Epot = forces.compute(system.pos, waterbox.system.box, system.forces)\n",
    "for i in iterator:\n",
    "    Ekin, Epot, T = integrator.step(niter=output_period)\n",
    "    wrapper.wrap(system.pos, system.box)\n",
    "    currpos = system.pos.detach().cpu().numpy().copy()\n",
    "    currvel = system.vel.detach().cpu().numpy().copy()\n",
    "    traj.append(np.stack([currpos[0], currvel[0]], axis=0))\n",
    "    \n",
    "    if (i*output_period) % save_period  == 0:\n",
    "        np.save(trajectoryout, np.stack(traj, axis=0))\n",
    "\n",
    "    logger.write_row({\n",
    "        'iter':i*output_period,\n",
    "        'ns':FS2NS*i*output_period*timestep,\n",
    "        'epot':Epot,\n",
    "        'ekin':Ekin,\n",
    "        'etot':Epot+Ekin,\n",
    "        'T':T\n",
    "    })"
   ]
  },
  {
   "cell_type": "code",
   "execution_count": null,
   "metadata": {},
   "outputs": [],
   "source": []
  }
 ],
 "metadata": {
  "kernelspec": {
   "display_name": "Python 3",
   "language": "python",
   "name": "python3"
  },
  "language_info": {
   "codemirror_mode": {
    "name": "ipython",
    "version": 3
   },
   "file_extension": ".py",
   "mimetype": "text/x-python",
   "name": "python",
   "nbconvert_exporter": "python",
   "pygments_lexer": "ipython3",
   "version": "3.7.3"
  }
 },
 "nbformat": 4,
 "nbformat_minor": 4
}
