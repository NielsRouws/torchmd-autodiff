{
 "cells": [
  {
   "cell_type": "code",
   "execution_count": 1,
   "metadata": {},
   "outputs": [],
   "source": [
    "#SBATCH -p gpu --exclusive --time 24:00:00\n",
    "import sys\n",
    "sys.path.append(\".\")\n",
    "DEVICE = \"cpu\"\n",
    "#DEVICE = \"cuda:0\""
   ]
  },
  {
   "cell_type": "markdown",
   "metadata": {},
   "source": [
    "# Learn the All-Atom Force Field Parameters from the Trajectory"
   ]
  },
  {
   "cell_type": "markdown",
   "metadata": {},
   "source": [
    "We try to learn force field parameters that reproduce the trajectory. Therefore, short chunks of the trajectory are simulated. The simulation engine serves as a propagator $P(x,\\Delta t,\\theta)$ with the force field parameters $\\theta.$ For consecutive snapshots of the trajectory $x(t_i)$ and $x(t_i + \\Delta t),$ we minimize the loss function\n",
    "\n",
    "$$ \n",
    "F(\\theta) = \\frac{1}{N} \\sum_{i} \\| P(x(t_i),\\Delta t, \\theta) - x(t_i + \\Delta t) \\|^{2},\n",
    "$$\n",
    "\n",
    "using a stochastic optimizer. $N$ is the number of snapshots in the trajectory (minus 1)."
   ]
  },
  {
   "cell_type": "code",
   "execution_count": 2,
   "metadata": {},
   "outputs": [],
   "source": [
    "import datetime\n",
    "import copy\n",
    "import numpy as np\n",
    "import torch\n",
    "from tqdm import tqdm\n",
    "\n",
    "from waterbox import WaterBox"
   ]
  },
  {
   "cell_type": "markdown",
   "metadata": {},
   "source": [
    "Set seeds to ensure reproducibility."
   ]
  },
  {
   "cell_type": "code",
   "execution_count": 3,
   "metadata": {},
   "outputs": [],
   "source": [
    "torch.manual_seed(1)\n",
    "np.random.seed(1)"
   ]
  },
  {
   "cell_type": "code",
   "execution_count": 4,
   "metadata": {},
   "outputs": [],
   "source": [
    "batch_size = 1 \n",
    "n_epochs = 4\n",
    "n_iter = 10  ## steps between frames\n",
    "waterbox = WaterBox(batch_size, device=DEVICE)"
   ]
  },
  {
   "cell_type": "markdown",
   "metadata": {},
   "source": [
    "## Load Trajectory\n",
    "\n",
    "We load the trajectory, remove equilibration, split it into pairs, and permute the pairs randomly."
   ]
  },
  {
   "cell_type": "code",
   "execution_count": 5,
   "metadata": {},
   "outputs": [],
   "source": [
    "traj = np.load(\"xyz_vel.npy\")\n",
    "permutation = torch.randperm(len(traj)-1)\n",
    "\n",
    "xyz = torch.tensor(traj[:,0,...], device=waterbox.device)\n",
    "xyz = torch.stack([xyz[:-1], xyz[1:]], axis=1)[permutation]\n",
    "vel = torch.tensor(traj[:,1,...], device=waterbox.device)\n",
    "vel = torch.stack([vel[:-1], vel[1:]], axis=1)[permutation]\n",
    "\n",
    "boxtensor = torch.tensor(waterbox.mol.box, device=waterbox.device)"
   ]
  },
  {
   "cell_type": "markdown",
   "metadata": {},
   "source": [
    "## Default Force Field Parameters"
   ]
  },
  {
   "cell_type": "code",
   "execution_count": 6,
   "metadata": {},
   "outputs": [],
   "source": [
    "defaults = {\n",
    "    \"bond_length\": waterbox.ff.get_bond(\"OT\", \"HT\")[1],\n",
    "    \"bond_k\": waterbox.ff.get_bond(\"OT\", \"HT\")[0],\n",
    "    \"angle\": waterbox.ff.get_angle(\"HT\", \"OT\", \"HT\")[1],\n",
    "    \"angle_k\": waterbox.ff.get_angle(\"HT\", \"OT\", \"HT\")[0],\n",
    "    \"charges\": np.array([\n",
    "        waterbox.ff.get_charge(at) \n",
    "        for at in [\"OT\", \"CLA\"] # [\"OT\", \"HT\", \"CLA\", \"SOD\"]\n",
    "    ]),\n",
    "    \"sigma\": np.array([\n",
    "        waterbox.ff.get_LJ(at)[0] \n",
    "        for at in [\"CLA\", \"HT\", \"OT\", \"SOD\"]\n",
    "    ]),\n",
    "    \"epsilon\": np.array([\n",
    "        waterbox.ff.get_LJ(at)[1] \n",
    "        for at in [\"CLA\", \"HT\", \"OT\", \"SOD\"]\n",
    "    ]),\n",
    "}"
   ]
  },
  {
   "cell_type": "markdown",
   "metadata": {},
   "source": [
    "## Propagator\n",
    "\n",
    "The propagator runs a few iterations of Langevin dynamics with modified force field parameters.\n",
    "It is defined as a torch module with the force field parameters as the parameters."
   ]
  },
  {
   "cell_type": "code",
   "execution_count": 7,
   "metadata": {},
   "outputs": [],
   "source": [
    "from integrator import Integrator \n",
    "\n",
    "class WaterBoxPropagator(torch.nn.Module):\n",
    "    \"\"\"Propagator. By default, the parameters are \n",
    "    initialized with the true force field parameters.\n",
    "    The initial parameters can be modified by \n",
    "    passing non-defaults to the constructor arguments.\n",
    "    \"\"\"\n",
    "    def __init__(\n",
    "        self, \n",
    "        waterbox, \n",
    "        timestep=1.0,\n",
    "        langevin_gamma=0.,\n",
    "        temperature=None,\n",
    "        bond_length=defaults[\"bond_length\"],\n",
    "        bond_k=defaults[\"bond_k\"],\n",
    "        angle=defaults[\"angle\"],\n",
    "        angle_k=defaults[\"angle_k\"],\n",
    "        charges=defaults[\"charges\"],\n",
    "        sigma=defaults[\"sigma\"],\n",
    "        epsilon=defaults[\"epsilon\"]\n",
    "    ):\n",
    "        super(WaterBoxPropagator, self).__init__()\n",
    "        self.temperature = temperature \n",
    "        self.device = waterbox.device\n",
    "        self.timestep = timestep\n",
    "        self.waterbox = waterbox\n",
    "        self.langevin_gamma = langevin_gamma\n",
    "        self.bond_length = torch.nn.Parameter(\n",
    "            torch.tensor(\n",
    "                bond_length, \n",
    "                dtype=waterbox.dtype, \n",
    "                device=waterbox.device\n",
    "            )\n",
    "        )\n",
    "        self.bond_k = torch.nn.Parameter(\n",
    "            torch.tensor(\n",
    "                bond_k, \n",
    "                dtype=waterbox.dtype, \n",
    "                device=waterbox.device\n",
    "            )\n",
    "        )\n",
    "        self.angle = torch.nn.Parameter(\n",
    "            torch.tensor(\n",
    "                angle, \n",
    "                dtype=waterbox.dtype, \n",
    "                device=waterbox.device\n",
    "            )\n",
    "        )\n",
    "        self.angle_k = torch.nn.Parameter(\n",
    "            torch.tensor(\n",
    "                angle_k, \n",
    "                dtype=waterbox.dtype, \n",
    "                device=waterbox.device\n",
    "            )\n",
    "        )\n",
    "        self.charges = torch.nn.Parameter(\n",
    "            torch.tensor(\n",
    "                charges, \n",
    "                dtype=waterbox.dtype, \n",
    "                device=waterbox.device\n",
    "            )\n",
    "        )\n",
    "        self.sigma = torch.nn.Parameter(\n",
    "            torch.tensor(\n",
    "                sigma, \n",
    "                dtype=waterbox.dtype, \n",
    "                device=waterbox.device\n",
    "            )\n",
    "        )\n",
    "        self.epsilon = torch.nn.Parameter(\n",
    "            torch.tensor(\n",
    "                epsilon, \n",
    "                dtype=waterbox.dtype, \n",
    "                device=waterbox.device\n",
    "            )\n",
    "        )\n",
    " \n",
    "    def forward(self, pos, vel, niter):\n",
    "        #self._set_integrator_temperature(self.temperature)\n",
    "        waterbox = copy.deepcopy(self.waterbox)\n",
    "        #waterbox = WaterBox(batch_size, device=\"cpu\")\n",
    "        self._apply_ff_parameters(waterbox)\n",
    "        integrator = Integrator(\n",
    "            waterbox.system, \n",
    "            waterbox.forces, \n",
    "            timestep=self.timestep,\n",
    "            device=waterbox.device,\n",
    "            gamma=self.langevin_gamma, \n",
    "            T=self.temperature\n",
    "        )\n",
    "        waterbox.system.pos[:] = pos\n",
    "        waterbox.system.vel[:] = vel\n",
    "        integrator.step(niter=niter)\n",
    "        return waterbox.system.pos, waterbox.system.vel\n",
    "        \n",
    "    def _apply_ff_parameters(self, waterbox):\n",
    "        p = waterbox.forces.par\n",
    "        p.bond_params[:] = self._make_bond_params(self.bond_length, self.bond_k)\n",
    "        p.angle_params[:] = self._make_angle_params(self.angle, self.angle_k)\n",
    "        p.charges[:] = self._make_charges(self.charges)\n",
    "        p.A[:], p.B[:] = self._make_lj(self.sigma, self.epsilon)\n",
    "    \n",
    "    @staticmethod\n",
    "    def _make_bond_params(length, k):\n",
    "        params1 = torch.stack([k, length])\n",
    "        params2 = torch.tensor([0.000, 1.5139], dtype=params1.dtype, device=params1.device)\n",
    "        three_bonds = torch.stack([params1, params1, params2])\n",
    "        return three_bonds.repeat((291//3,1))\n",
    "\n",
    "    @staticmethod\n",
    "    def _make_angle_params(angle, k):\n",
    "        params = torch.stack([k, angle])\n",
    "        return params.repeat((97,1))\n",
    "\n",
    "    @staticmethod\n",
    "    def _make_charges(charges): #q_oxygen, q_hydrogen, q_anion, q_cation):\n",
    "        q_oxygen = charges[0]\n",
    "        q_hydrogen = -charges[0]*0.5\n",
    "        q_anion = charges[1]\n",
    "        q_cation = -charges[1]\n",
    "        params1 = torch.stack([q_oxygen, q_hydrogen, q_hydrogen]).repeat((97,))\n",
    "        params2 = torch.stack([q_anion, q_cation], 0)\n",
    "        return torch.cat([params1, params2])\n",
    "\n",
    "    @staticmethod\n",
    "    def _make_lj(sigma, epsilon):\n",
    "        # Lorentz - Berthelot combination rule\n",
    "        sigma_table = 0.5 * (sigma + sigma[:, None])\n",
    "        eps_table = torch.sqrt(epsilon * epsilon[:, None])\n",
    "        sigma_table_6 = sigma_table ** 6\n",
    "        sigma_table_12 = sigma_table_6 * sigma_table_6\n",
    "        A = eps_table * 4 * sigma_table_12\n",
    "        B = eps_table * 4 * sigma_table_6\n",
    "        return A, B        "
   ]
  },
  {
   "cell_type": "code",
   "execution_count": 8,
   "metadata": {},
   "outputs": [],
   "source": [
    "class ParameterLogger:\n",
    "    \"\"\"Write parameters to a npz file during optimization.\"\"\"\n",
    "    def __init__(self, filename=None, defaults=defaults, flush_interval=10):\n",
    "        default_filename = (\n",
    "            datetime.datetime.now()\n",
    "            .strftime(\"learn_%Y-%m-%d_%Hh%Mm%Ss.npz\")\n",
    "        )\n",
    "        self.filename = default_filename if filename is None else filename\n",
    "        self.defaults = defaults\n",
    "        self.data = {\n",
    "            key: [] for key in self.defaults\n",
    "        }\n",
    "        self.data[\"epoch\"] = []\n",
    "        self.data[\"it\"] = []\n",
    "        self.data[\"loss\"] = []\n",
    "        self.flush_interval = flush_interval\n",
    "        self.i = 0\n",
    "    \n",
    "    def __call__(self, epoch, it, loss, propagator):\n",
    "        self.i += 1\n",
    "        for key in defaults:\n",
    "            assert hasattr(propagator, key)\n",
    "        for key in self.defaults:\n",
    "            self.data[key].append(getattr(propagator, key).clone().detach().cpu().numpy())\n",
    "        self.data[\"epoch\"].append(epoch)\n",
    "        self.data[\"it\"].append(it)\n",
    "        self.data[\"loss\"].append(loss.item())\n",
    "        if self.i % self.flush_interval == 0:\n",
    "            self.flush()\n",
    "    \n",
    "    def flush(self):\n",
    "        np.savez(self.filename, **self.data)\n",
    "        "
   ]
  },
  {
   "cell_type": "markdown",
   "metadata": {},
   "source": [
    "## Initialize Propagator with Modified Parameters\n",
    "\n",
    "Modify charges."
   ]
  },
  {
   "cell_type": "code",
   "execution_count": 9,
   "metadata": {},
   "outputs": [],
   "source": [
    "modified = {key: defaults[key] for key in defaults}\n",
    "modified[\"charges\"] *= 0.01"
   ]
  },
  {
   "cell_type": "markdown",
   "metadata": {},
   "source": [
    "Create the propagator with the modified parameters and the optimizer."
   ]
  },
  {
   "cell_type": "code",
   "execution_count": 10,
   "metadata": {},
   "outputs": [],
   "source": [
    "propagator = WaterBoxPropagator(waterbox, **modified)\n",
    "optim = torch.optim.Adam([propagator.charges], lr=1e-3)\n",
    "scheduler = torch.optim.lr_scheduler.StepLR(optim, step_size=2, gamma=0.1)"
   ]
  },
  {
   "cell_type": "markdown",
   "metadata": {},
   "source": [
    "Create the Logger."
   ]
  },
  {
   "cell_type": "code",
   "execution_count": 11,
   "metadata": {},
   "outputs": [],
   "source": [
    "logger = ParameterLogger()"
   ]
  },
  {
   "cell_type": "markdown",
   "metadata": {},
   "source": [
    "Define the loss function as the mean squared distance between the propagated positions from the trajectory and the modified parameters."
   ]
  },
  {
   "cell_type": "code",
   "execution_count": 12,
   "metadata": {},
   "outputs": [
    {
     "data": {
      "text/plain": [
       "tensor(0.0088, dtype=torch.float64)"
      ]
     },
     "execution_count": 12,
     "metadata": {},
     "output_type": "execute_result"
    }
   ],
   "source": [
    "from torchmd.forces import wrap_dist\n",
    "\n",
    "def periodic_mse_loss(pos1, pos2, box):\n",
    "    return (wrap_dist(pos1-pos2, box)**2).mean()\n",
    "\n",
    "# Test:\n",
    "periodic_mse_loss(xyz[0,0], xyz[0,1], boxtensor)"
   ]
  },
  {
   "cell_type": "code",
   "execution_count": null,
   "metadata": {},
   "outputs": [
    {
     "name": "stderr",
     "output_type": "stream",
     "text": [
      "\r",
      "  0%|          | 0/188 [00:00<?, ?it/s]"
     ]
    },
    {
     "name": "stdout",
     "output_type": "stream",
     "text": [
      "Epoch 0/4\n"
     ]
    },
    {
     "name": "stderr",
     "output_type": "stream",
     "text": [
      "  2%|▏         | 3/188 [00:02<02:56,  1.05it/s]"
     ]
    }
   ],
   "source": [
    "for epoch in range(n_epochs):\n",
    "    print(f\"Epoch {epoch}/{n_epochs}\")\n",
    "    for ibatch in tqdm(range(len(xyz) // batch_size - 1)):\n",
    "        optim.zero_grad()\n",
    "        start_xyz = xyz[batch_size*ibatch:batch_size*(ibatch+1), 0, ...].clone()\n",
    "        end_xyz = xyz[batch_size*ibatch:batch_size*(ibatch+1), 1, ...].clone()\n",
    "        start_vel = vel[batch_size*ibatch:batch_size*(ibatch+1), 0, ...].clone()\n",
    "        new_xyz, new_vel = propagator(start_xyz, start_vel, niter=n_iter)\n",
    "        loss = periodic_mse_loss(\n",
    "            new_xyz, \n",
    "            end_xyz, \n",
    "            boxtensor\n",
    "        )\n",
    "        loss.backward()\n",
    "        logger(epoch, ibatch, loss, propagator)\n",
    "        optim.step()\n",
    "    scheduler.step()"
   ]
  },
  {
   "cell_type": "code",
   "execution_count": null,
   "metadata": {},
   "outputs": [],
   "source": []
  }
 ],
 "metadata": {
  "kernelspec": {
   "display_name": "Python 3",
   "language": "python",
   "name": "python3"
  },
  "language_info": {
   "codemirror_mode": {
    "name": "ipython",
    "version": 3
   },
   "file_extension": ".py",
   "mimetype": "text/x-python",
   "name": "python",
   "nbconvert_exporter": "python",
   "pygments_lexer": "ipython3",
   "version": "3.7.3"
  }
 },
 "nbformat": 4,
 "nbformat_minor": 4
}
